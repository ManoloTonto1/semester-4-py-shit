{
 "cells": [
  {
   "cell_type": "code",
   "execution_count": 72,
   "metadata": {},
   "outputs": [],
   "source": [
    "import pandas as pd\n",
    "import pyodbc\n"
   ]
  },
  {
   "cell_type": "code",
   "execution_count": 73,
   "metadata": {},
   "outputs": [],
   "source": [
    "# Read the data from access database\n",
    "\n",
    "dbPath = \"./go_sales.accdb\"\n",
    "sales_db = pyodbc.connect(r\"DRIVER={Microsoft Access Driver (*.mdb, *.accdb)};DBQ=\" + dbPath)"
   ]
  },
  {
   "cell_type": "code",
   "execution_count": 74,
   "metadata": {},
   "outputs": [
    {
     "name": "stderr",
     "output_type": "stream",
     "text": [
      "c:\\Users\\manny\\AppData\\Local\\Programs\\Python\\Python39\\lib\\site-packages\\pandas\\io\\sql.py:762: UserWarning: pandas only support SQLAlchemy connectable(engine/connection) ordatabase string URI or sqlite3 DBAPI2 connectionother DBAPI2 objects are not tested, please consider using SQLAlchemy\n",
      "  warnings.warn(\n",
      "c:\\Users\\manny\\AppData\\Local\\Programs\\Python\\Python39\\lib\\site-packages\\pandas\\io\\sql.py:762: UserWarning: pandas only support SQLAlchemy connectable(engine/connection) ordatabase string URI or sqlite3 DBAPI2 connectionother DBAPI2 objects are not tested, please consider using SQLAlchemy\n",
      "  warnings.warn(\n",
      "c:\\Users\\manny\\AppData\\Local\\Programs\\Python\\Python39\\lib\\site-packages\\pandas\\io\\sql.py:762: UserWarning: pandas only support SQLAlchemy connectable(engine/connection) ordatabase string URI or sqlite3 DBAPI2 connectionother DBAPI2 objects are not tested, please consider using SQLAlchemy\n",
      "  warnings.warn(\n",
      "c:\\Users\\manny\\AppData\\Local\\Programs\\Python\\Python39\\lib\\site-packages\\pandas\\io\\sql.py:762: UserWarning: pandas only support SQLAlchemy connectable(engine/connection) ordatabase string URI or sqlite3 DBAPI2 connectionother DBAPI2 objects are not tested, please consider using SQLAlchemy\n",
      "  warnings.warn(\n"
     ]
    }
   ],
   "source": [
    "# Read the tables from access database\n",
    "order_details = pd.read_sql(\"SELECT * FROM order_details\", sales_db)\n",
    "product = pd.read_sql(\"SELECT * FROM product\", sales_db)\n",
    "order_header = pd.read_sql(\"SELECT * FROM order_header\", sales_db)\n",
    "order_method = pd.read_sql(\"SELECT * FROM order_method\", sales_db)\n"
   ]
  },
  {
   "cell_type": "code",
   "execution_count": 75,
   "metadata": {},
   "outputs": [],
   "source": [
    "# Merge the tables\n",
    "order_details = pd.merge(order_details, product, on=\"PRODUCT_NUMBER\")\n",
    "order_details = pd.merge(order_details, order_header, on=\"ORDER_NUMBER\")\n",
    "order_details = pd.merge(order_details, order_method, on=\"ORDER_METHOD_CODE\")"
   ]
  },
  {
   "cell_type": "code",
   "execution_count": 76,
   "metadata": {},
   "outputs": [],
   "source": [
    "# Create a new column\n",
    "order_details[\"QUANTITY\"] =  order_details[\"QUANTITY\"].astype(float).where(order_details[\"QUANTITY\"].notnull(), 0)\n",
    "order_details[\"UNIT_PRICE\"] = order_details[\"UNIT_PRICE\"].astype(float).where(order_details[\"UNIT_PRICE\"].notnull(), 0)\n",
    "order_details[\"total_revenue\"] = order_details[\"QUANTITY\"] * order_details[\"UNIT_PRICE\"]"
   ]
  },
  {
   "cell_type": "code",
   "execution_count": 77,
   "metadata": {},
   "outputs": [
    {
     "data": {
      "text/plain": [
       "YEAR    PRODUCT_NAME         ORDER_METHOD_EN  UNIT_PRICE\n",
       "2020.0  .28                  E-mail           40.00          5080.00\n",
       "                                              40.52          3079.52\n",
       "                                              127.27        53198.86\n",
       "                                              134.11        10594.69\n",
       "                             Fax              0.00              0.00\n",
       "                                                              ...   \n",
       "2022.0  TrailChef Water Bag  Telephone        0.00              0.00\n",
       "                                              2.00            184.00\n",
       "                                              4.00            408.00\n",
       "                                              6.00          14304.00\n",
       "                                              204.00         1020.00\n",
       "Name: total_revenue, Length: 4084, dtype: float64"
      ]
     },
     "execution_count": 77,
     "metadata": {},
     "output_type": "execute_result"
    }
   ],
   "source": [
    "order_details[\"ORDER_DATE\"] = pd.to_datetime(order_details[\"ORDER_DATE\"])\n",
    "order_details[\"YEAR\"] = order_details[\"ORDER_DATE\"].dt.year\n",
    "# Group by the order method type\n",
    "order_details.groupby([\"YEAR\", \"PRODUCT_NAME\", \"ORDER_METHOD_EN\", \"UNIT_PRICE\"])[\"total_revenue\"].sum()"
   ]
  }
 ],
 "metadata": {
  "kernelspec": {
   "display_name": "Python 3",
   "language": "python",
   "name": "python3"
  },
  "language_info": {
   "codemirror_mode": {
    "name": "ipython",
    "version": 3
   },
   "file_extension": ".py",
   "mimetype": "text/x-python",
   "name": "python",
   "nbconvert_exporter": "python",
   "pygments_lexer": "ipython3",
   "version": "3.9.7"
  },
  "orig_nbformat": 4
 },
 "nbformat": 4,
 "nbformat_minor": 2
}
